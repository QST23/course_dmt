{
 "cells": [
  {
   "cell_type": "code",
   "execution_count": 77,
   "metadata": {},
   "outputs": [],
   "source": [
    "import pandas as pd\n",
    "import numpy as np\n",
    "import matplotlib.pyplot as plt\n",
    "import seaborn as sns\n",
    "import math\n",
    "from typing import Union\n",
    "\n",
    "\n",
    "from sklearn.ensemble import RandomForestClassifier\n",
    "from sklearn.metrics import accuracy_score\n",
    "from sklearn.metrics import confusion_matrix\n",
    "from sklearn.metrics import classification_report\n",
    "from sklearn.metrics import f1_score"
   ]
  },
  {
   "cell_type": "code",
   "execution_count": 78,
   "metadata": {},
   "outputs": [
    {
     "data": {
      "text/html": [
       "<div>\n",
       "<style scoped>\n",
       "    .dataframe tbody tr th:only-of-type {\n",
       "        vertical-align: middle;\n",
       "    }\n",
       "\n",
       "    .dataframe tbody tr th {\n",
       "        vertical-align: top;\n",
       "    }\n",
       "\n",
       "    .dataframe thead th {\n",
       "        text-align: right;\n",
       "    }\n",
       "</style>\n",
       "<table border=\"1\" class=\"dataframe\">\n",
       "  <thead>\n",
       "    <tr style=\"text-align: right;\">\n",
       "      <th></th>\n",
       "      <th>mood</th>\n",
       "      <th>circumplex.arousal</th>\n",
       "      <th>circumplex.valence</th>\n",
       "      <th>activity</th>\n",
       "      <th>screen</th>\n",
       "      <th>call</th>\n",
       "      <th>sms</th>\n",
       "      <th>appCat.builtin</th>\n",
       "      <th>appCat.communication</th>\n",
       "      <th>appCat.entertainment</th>\n",
       "      <th>...</th>\n",
       "      <th>AS14.26</th>\n",
       "      <th>AS14.27</th>\n",
       "      <th>AS14.28</th>\n",
       "      <th>AS14.29</th>\n",
       "      <th>AS14.30</th>\n",
       "      <th>AS14.31</th>\n",
       "      <th>AS14.32</th>\n",
       "      <th>AS14.33</th>\n",
       "      <th>mood_target</th>\n",
       "      <th>date</th>\n",
       "    </tr>\n",
       "  </thead>\n",
       "  <tbody>\n",
       "    <tr>\n",
       "      <th>0</th>\n",
       "      <td>0.666667</td>\n",
       "      <td>0.544964</td>\n",
       "      <td>0.790419</td>\n",
       "      <td>0.016944</td>\n",
       "      <td>2.005873e-18</td>\n",
       "      <td>7.412061e-17</td>\n",
       "      <td>8.971913e-09</td>\n",
       "      <td>0.042151</td>\n",
       "      <td>1.301351e-14</td>\n",
       "      <td>0.000053</td>\n",
       "      <td>...</td>\n",
       "      <td>0</td>\n",
       "      <td>0</td>\n",
       "      <td>0</td>\n",
       "      <td>0</td>\n",
       "      <td>0</td>\n",
       "      <td>0</td>\n",
       "      <td>0</td>\n",
       "      <td>0</td>\n",
       "      <td>7.0</td>\n",
       "      <td>2014-03-08</td>\n",
       "    </tr>\n",
       "    <tr>\n",
       "      <th>1</th>\n",
       "      <td>0.688889</td>\n",
       "      <td>0.920466</td>\n",
       "      <td>0.790419</td>\n",
       "      <td>0.147492</td>\n",
       "      <td>2.005873e-18</td>\n",
       "      <td>9.577064e-01</td>\n",
       "      <td>8.971913e-09</td>\n",
       "      <td>0.042151</td>\n",
       "      <td>1.301351e-14</td>\n",
       "      <td>0.000053</td>\n",
       "      <td>...</td>\n",
       "      <td>0</td>\n",
       "      <td>0</td>\n",
       "      <td>0</td>\n",
       "      <td>0</td>\n",
       "      <td>0</td>\n",
       "      <td>0</td>\n",
       "      <td>0</td>\n",
       "      <td>0</td>\n",
       "      <td>7.0</td>\n",
       "      <td>2014-03-09</td>\n",
       "    </tr>\n",
       "    <tr>\n",
       "      <th>2</th>\n",
       "      <td>0.688889</td>\n",
       "      <td>0.083616</td>\n",
       "      <td>0.961064</td>\n",
       "      <td>0.016944</td>\n",
       "      <td>2.005873e-18</td>\n",
       "      <td>7.412061e-17</td>\n",
       "      <td>8.971913e-09</td>\n",
       "      <td>0.042151</td>\n",
       "      <td>1.301351e-14</td>\n",
       "      <td>0.000053</td>\n",
       "      <td>...</td>\n",
       "      <td>0</td>\n",
       "      <td>0</td>\n",
       "      <td>0</td>\n",
       "      <td>0</td>\n",
       "      <td>0</td>\n",
       "      <td>0</td>\n",
       "      <td>0</td>\n",
       "      <td>0</td>\n",
       "      <td>7.0</td>\n",
       "      <td>2014-03-09</td>\n",
       "    </tr>\n",
       "    <tr>\n",
       "      <th>3</th>\n",
       "      <td>0.703704</td>\n",
       "      <td>0.888636</td>\n",
       "      <td>0.375675</td>\n",
       "      <td>0.147492</td>\n",
       "      <td>2.005873e-18</td>\n",
       "      <td>7.412061e-17</td>\n",
       "      <td>8.971913e-09</td>\n",
       "      <td>0.042151</td>\n",
       "      <td>1.301351e-14</td>\n",
       "      <td>0.000053</td>\n",
       "      <td>...</td>\n",
       "      <td>0</td>\n",
       "      <td>0</td>\n",
       "      <td>0</td>\n",
       "      <td>0</td>\n",
       "      <td>0</td>\n",
       "      <td>0</td>\n",
       "      <td>0</td>\n",
       "      <td>0</td>\n",
       "      <td>7.0</td>\n",
       "      <td>2014-03-10</td>\n",
       "    </tr>\n",
       "    <tr>\n",
       "      <th>4</th>\n",
       "      <td>0.644444</td>\n",
       "      <td>0.083616</td>\n",
       "      <td>0.323746</td>\n",
       "      <td>0.016944</td>\n",
       "      <td>2.005873e-18</td>\n",
       "      <td>7.412061e-17</td>\n",
       "      <td>9.997626e-01</td>\n",
       "      <td>0.042151</td>\n",
       "      <td>1.301351e-14</td>\n",
       "      <td>0.000053</td>\n",
       "      <td>...</td>\n",
       "      <td>0</td>\n",
       "      <td>0</td>\n",
       "      <td>0</td>\n",
       "      <td>0</td>\n",
       "      <td>0</td>\n",
       "      <td>0</td>\n",
       "      <td>0</td>\n",
       "      <td>0</td>\n",
       "      <td>7.0</td>\n",
       "      <td>2014-03-10</td>\n",
       "    </tr>\n",
       "  </tbody>\n",
       "</table>\n",
       "<p>5 rows × 121 columns</p>\n",
       "</div>"
      ],
      "text/plain": [
       "       mood  circumplex.arousal  circumplex.valence  activity        screen  \\\n",
       "0  0.666667            0.544964            0.790419  0.016944  2.005873e-18   \n",
       "1  0.688889            0.920466            0.790419  0.147492  2.005873e-18   \n",
       "2  0.688889            0.083616            0.961064  0.016944  2.005873e-18   \n",
       "3  0.703704            0.888636            0.375675  0.147492  2.005873e-18   \n",
       "4  0.644444            0.083616            0.323746  0.016944  2.005873e-18   \n",
       "\n",
       "           call           sms  appCat.builtin  appCat.communication  \\\n",
       "0  7.412061e-17  8.971913e-09        0.042151          1.301351e-14   \n",
       "1  9.577064e-01  8.971913e-09        0.042151          1.301351e-14   \n",
       "2  7.412061e-17  8.971913e-09        0.042151          1.301351e-14   \n",
       "3  7.412061e-17  8.971913e-09        0.042151          1.301351e-14   \n",
       "4  7.412061e-17  9.997626e-01        0.042151          1.301351e-14   \n",
       "\n",
       "   appCat.entertainment  ...  AS14.26  AS14.27  AS14.28  AS14.29  AS14.30  \\\n",
       "0              0.000053  ...        0        0        0        0        0   \n",
       "1              0.000053  ...        0        0        0        0        0   \n",
       "2              0.000053  ...        0        0        0        0        0   \n",
       "3              0.000053  ...        0        0        0        0        0   \n",
       "4              0.000053  ...        0        0        0        0        0   \n",
       "\n",
       "   AS14.31  AS14.32  AS14.33  mood_target        date  \n",
       "0        0        0        0          7.0  2014-03-08  \n",
       "1        0        0        0          7.0  2014-03-09  \n",
       "2        0        0        0          7.0  2014-03-09  \n",
       "3        0        0        0          7.0  2014-03-10  \n",
       "4        0        0        0          7.0  2014-03-10  \n",
       "\n",
       "[5 rows x 121 columns]"
      ]
     },
     "execution_count": 78,
     "metadata": {},
     "output_type": "execute_result"
    }
   ],
   "source": [
    "#load the data\n",
    "df = pd.read_csv('Datasets/feature_engineered_data_classification.csv')\n",
    "df.head()"
   ]
  },
  {
   "cell_type": "code",
   "execution_count": 79,
   "metadata": {},
   "outputs": [
    {
     "name": "stdout",
     "output_type": "stream",
     "text": [
      "(1296, 121)\n"
     ]
    },
    {
     "data": {
      "text/plain": [
       "['mood',\n",
       " 'circumplex.arousal',\n",
       " 'circumplex.valence',\n",
       " 'activity',\n",
       " 'screen',\n",
       " 'call',\n",
       " 'sms',\n",
       " 'mood_prev_1',\n",
       " 'mood_absolute_change',\n",
       " 'mood_absolute_change_prev_1',\n",
       " 'mood_pct_change',\n",
       " 'mood_pct_change_prev_1',\n",
       " 'circumplex.valence_prev_1',\n",
       " 'circumplex.valence_absolute_change',\n",
       " 'circumplex.valence_absolute_change_prev_1',\n",
       " 'circumplex.arousal_prev_1',\n",
       " 'circumplex.arousal_absolute_change',\n",
       " 'circumplex.arousal_absolute_change_prev_1',\n",
       " 'activity_prev_1',\n",
       " 'activity_absolute_change',\n",
       " 'activity_absolute_change_prev_1',\n",
       " 'year',\n",
       " 'month',\n",
       " 'day_of_month',\n",
       " 'day_of_week',\n",
       " 'is_holiday',\n",
       " 'is_weekend',\n",
       " 'days_until_weekend',\n",
       " 'mood_target']"
      ]
     },
     "execution_count": 79,
     "metadata": {},
     "output_type": "execute_result"
    }
   ],
   "source": [
    "test_cols = []\n",
    "\n",
    "for col in df.columns:\n",
    "    if col[:2] == 'AS':\n",
    "        continue\n",
    "    elif col[:3] == 'app':\n",
    "        continue\n",
    "    elif col[:3] == 'lat':\n",
    "        continue\n",
    "    elif col[-1] == '2' or col[-1] == '3' or col[-1] == '4' or col[-1] == '5' or col[-1] == '6' or col[-1] == '7':\n",
    "        continue\n",
    "\n",
    "    else:\n",
    "        test_cols.append(col)\n",
    "\n",
    "\n",
    "#late date be first column\n",
    "test_cols = test_cols[:-1]\n",
    "print(df.shape)\n",
    "test_cols"
   ]
  },
  {
   "cell_type": "code",
   "execution_count": 80,
   "metadata": {},
   "outputs": [
    {
     "name": "stdout",
     "output_type": "stream",
     "text": [
      "TimeSeriesSplit(gap=0, max_train_size=200, n_splits=10, test_size=None)\n"
     ]
    }
   ],
   "source": [
    "from sklearn.model_selection import TimeSeriesSplit\n",
    "tscv = TimeSeriesSplit(n_splits=10, max_train_size=200, test_size=None)\n",
    "print(tscv)\n",
    "\n",
    "#drop dates\n",
    "df = df.drop(['date'], axis=1)\n",
    "\n",
    "X = df.drop(['mood_target'], axis=1)\n",
    "y = df['mood_target']"
   ]
  },
  {
   "cell_type": "markdown",
   "metadata": {},
   "source": [
    "### Initialise"
   ]
  },
  {
   "cell_type": "code",
   "execution_count": 81,
   "metadata": {},
   "outputs": [
    {
     "name": "stdout",
     "output_type": "stream",
     "text": [
      "TRAIN: 216 TEST: 216\n",
      "TRAIN: 216 TEST: 216\n",
      "TRAIN: 216 TEST: 216\n",
      "TRAIN: 216 TEST: 216\n",
      "TRAIN: 216 TEST: 216\n"
     ]
    }
   ],
   "source": [
    "#maximum number of models to try (runtime)\n",
    "max_models = 10\n",
    "\n",
    "#set folds and equal trainingsize to testsize (balanced training)\n",
    "n_splits = 5\n",
    "t_size = len(y) // (n_splits + 1)\n",
    "\n",
    "# Initialize time series cross-validation object\n",
    "tscv = TimeSeriesSplit(n_splits=n_splits, max_train_size=t_size)\n",
    "\n",
    "for train_index, test_index in tscv.split(X):\n",
    "    print(\"TRAIN:\", len(train_index), \"TEST:\", len(test_index))\n",
    "    X_train, X_test = X.iloc[train_index], X.iloc[test_index]\n",
    "    y_train, y_test = y.iloc[train_index], y.iloc[test_index]\n"
   ]
  },
  {
   "cell_type": "markdown",
   "metadata": {},
   "source": [
    "### Evaluation\n"
   ]
  },
  {
   "cell_type": "code",
   "execution_count": 87,
   "metadata": {},
   "outputs": [],
   "source": [
    "def evaluation(true, pred):\n",
    "    acc = accuracy_score(true, pred)\n",
    "    f1= f1_score(true, pred, average='weighted')\n",
    "\n",
    "    return {'accuracy': acc, 'f1': f1}"
   ]
  },
  {
   "cell_type": "markdown",
   "metadata": {},
   "source": [
    "### Models"
   ]
  },
  {
   "cell_type": "code",
   "execution_count": 88,
   "metadata": {},
   "outputs": [],
   "source": [
    "# from xgboost import XGBClassifier\n",
    "from sklearn.ensemble import RandomForestClassifier\n",
    "from sklearn.naive_bayes import GaussianNB\n",
    "from sklearn.neighbors import KNeighborsClassifier\n",
    "from sklearn import svm\n",
    "\n",
    "#set up models\n",
    "models_collection = {\n",
    "    'rfc' : RandomForestClassifier(class_weight='balanced_subsample')\n",
    "    # 'xgb' : XGBClassifier(),\n",
    "    # 'gnb' : GaussianNB(),\n",
    "    # 'knn' : KNeighborsClassifier(),\n",
    "    # 'svm' : svm.SVC(),\n",
    "}"
   ]
  },
  {
   "cell_type": "code",
   "execution_count": 90,
   "metadata": {},
   "outputs": [
    {
     "name": "stdout",
     "output_type": "stream",
     "text": [
      "Model: rfc\n",
      "  Results: [0.364, 0.41, 0.327, 0.314, 0.392]\n",
      "  avg f1: 0.361\n",
      "  avg acc: 0.494\n"
     ]
    }
   ],
   "source": [
    "# Initialize empty list to store cross-validation results\n",
    "cv_results = dict(list())\n",
    "\n",
    "# Loop through each cross-validation fold and fit model on training data\n",
    "for train_index, test_index in tscv.split(X):\n",
    "    # Split data into training and test sets\n",
    "    X_train, X_test = X.iloc[train_index], X.iloc[test_index]\n",
    "    y_train, y_test = y.iloc[train_index], y.iloc[test_index]\n",
    "\n",
    "    # Loop over all models\n",
    "    for model_name, model in models_collection.items():\n",
    "\n",
    "        # Fit model on training data\n",
    "        model.fit(X_train, y_train)\n",
    "\n",
    "        # Predict target variable on test data\n",
    "        y_pred = model.predict(X_test)\n",
    "\n",
    "        # Compute f1-score on test data\n",
    "        score = evaluation(y_test, y_pred)\n",
    "\n",
    "        # Append cross-validation result to list\n",
    "        if model_name in cv_results:\n",
    "            cv_results[model_name].append(score)\n",
    "        else:\n",
    "            cv_results[model_name] = [score]\n",
    "\n",
    "\n",
    "#loop over models and print results for each evaluation metric\n",
    "for model_name in models_collection.keys():\n",
    "    print(f'Model: {model_name}')\n",
    "    print('  Results:', [round(res['f1'], 3) for res in cv_results[model_name]])\n",
    "    print('  avg f1:', round(sum([res['f1'] for res in cv_results[model_name]]) / len(cv_results[model_name]), 3))\n",
    "    print('  avg acc:', round(sum([res['accuracy'] for res in cv_results[model_name]]) / len(cv_results[model_name]), 3))\n",
    "\n",
    "# Compute average f1 for all models over all cross-validation folds\n",
    "# avg_f1 = {name : sum(cv_results_for_model[score]) / len(cv_results_for_model[score]) for name, cv_results_for_model in cv_results.items()}\n",
    "\n",
    "# # Report results\n",
    "# for model_name in models_collection.keys():\n",
    "#     print(f'Model: {model_name}')\n",
    "#     print('  Results:', [round(res, 3) for res in cv_results[model_name]])\n",
    "#     print('  avg f1:', round(avg_f1[model_name], 3))\n"
   ]
  },
  {
   "cell_type": "code",
   "execution_count": null,
   "metadata": {},
   "outputs": [],
   "source": []
  },
  {
   "cell_type": "code",
   "execution_count": 85,
   "metadata": {},
   "outputs": [
    {
     "data": {
      "text/plain": [
       "(RandomForestClassifier(class_weight='balanced_subsample'),\n",
       " 0.49444444444444446)"
      ]
     },
     "execution_count": 85,
     "metadata": {},
     "output_type": "execute_result"
    }
   ],
   "source": [
    "#best model\n",
    "best_res = 0.0\n",
    "best_model = ''\n",
    "for name, res in avg_f1.items():\n",
    "    if res > best_res:\n",
    "        best_res = res\n",
    "        best_model = models_collection[name]\n",
    "best_model, best_res"
   ]
  }
 ],
 "metadata": {
  "kernelspec": {
   "display_name": "Python 3",
   "language": "python",
   "name": "python3"
  },
  "language_info": {
   "codemirror_mode": {
    "name": "ipython",
    "version": 3
   },
   "file_extension": ".py",
   "mimetype": "text/x-python",
   "name": "python",
   "nbconvert_exporter": "python",
   "pygments_lexer": "ipython3",
   "version": "3.9.0"
  },
  "orig_nbformat": 4
 },
 "nbformat": 4,
 "nbformat_minor": 2
}
