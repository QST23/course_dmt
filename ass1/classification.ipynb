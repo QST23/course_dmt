{
 "cells": [
  {
   "cell_type": "code",
   "execution_count": null,
   "metadata": {},
   "outputs": [],
   "source": [
    "#define target variable\n",
    "#df['target'] = df['mood'].shift(-1)"
   ]
  },
  {
   "cell_type": "code",
   "execution_count": null,
   "metadata": {},
   "outputs": [],
   "source": [
    "#split data into train and test\n",
    "def rolling_time_series_split(df, train_size:Union[int,float], val_size:Union[int,float]=0.2, jumpsize:int=None):\n",
    "    '''\n",
    "    train_size -> size of the training set.\n",
    "        - if int: number of instances\n",
    "        - if float between 0-1: proportion of dataset\\n\n",
    "    val_size=None -> size of the validation set.\n",
    "        - if int: number of instances\n",
    "        - if float between 0-1: proportion of training size\\n\n",
    "    jumpsize=None -> number of indices that will be skipped for the next fold: \n",
    "        - if 1: folds with a single increment, \n",
    "        - if None: results in folds without validation repetition (jumpsize=validation_size)\n",
    "        - if equal to train+val sizes: no data will appear dubble in next fold.\\n\n",
    "    returns -> generator object with 2 sets of indices per fold: train, val\n",
    "    '''\n",
    "\n",
    "    if not jumpsize:\n",
    "        jumpsize = val_size\n",
    "\n",
    "    n_samples = len(df) #100\n",
    "    indices = df['index'].to_numpy() #100\n",
    "\n",
    "    train_size = translate_sizing(train_size, n_samples)\n",
    "    val_size = translate_sizing(val_size, train_size)\n",
    "    final_training_index = n_samples - val_size\n",
    "\n",
    "    print(f'With {round((final_training_index-train_size)/jumpsize,3)} folds:')\n",
    "    print(final_training_index,train_size,jumpsize)\n",
    "\n",
    "    for i in range(train_size, final_training_index, jumpsize):\n",
    "        yield indices[i-train_size:i], indices[i:i+val_size]\n",
    "\n",
    "\n",
    "def translate_sizing(size, total)->int:\n",
    "    typing = str(type(size))\n",
    "\n",
    "    switch = {\n",
    "        \"<class 'int'>\":size,\n",
    "        \"<class 'float'>\": int(size * total)\n",
    "    }\n",
    "\n",
    "    if size <= 0:\n",
    "        raise IndexError(\"Incorrect sizing for train-validation splitting\")\n",
    "\n",
    "    return switch[typing]"
   ]
  }
 ],
 "metadata": {
  "language_info": {
   "name": "python"
  },
  "orig_nbformat": 4
 },
 "nbformat": 4,
 "nbformat_minor": 2
}
