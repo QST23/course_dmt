{
 "cells": [
  {
   "cell_type": "code",
   "execution_count": 1,
   "metadata": {},
   "outputs": [],
   "source": [
    "#import all the necessary libraries\n",
    "import pandas as pd\n",
    "import numpy as np\n",
    "import matplotlib.pyplot as plt\n",
    "import seaborn as sns\n",
    "import math\n",
    "\n",
    "#import pipelines\n",
    "import Data_cleaning_pipeline as dcp\n",
    "import Feature_engineering_pipeline as fep\n"
   ]
  },
  {
   "cell_type": "code",
   "execution_count": 2,
   "metadata": {},
   "outputs": [
    {
     "data": {
      "text/html": [
       "<div>\n",
       "<style scoped>\n",
       "    .dataframe tbody tr th:only-of-type {\n",
       "        vertical-align: middle;\n",
       "    }\n",
       "\n",
       "    .dataframe tbody tr th {\n",
       "        vertical-align: top;\n",
       "    }\n",
       "\n",
       "    .dataframe thead th {\n",
       "        text-align: right;\n",
       "    }\n",
       "</style>\n",
       "<table border=\"1\" class=\"dataframe\">\n",
       "  <thead>\n",
       "    <tr style=\"text-align: right;\">\n",
       "      <th></th>\n",
       "      <th>id</th>\n",
       "      <th>time</th>\n",
       "      <th>variable</th>\n",
       "      <th>value</th>\n",
       "    </tr>\n",
       "  </thead>\n",
       "  <tbody>\n",
       "    <tr>\n",
       "      <th>1</th>\n",
       "      <td>AS14.01</td>\n",
       "      <td>2014-02-26 13:00:00.000</td>\n",
       "      <td>mood</td>\n",
       "      <td>6.0</td>\n",
       "    </tr>\n",
       "    <tr>\n",
       "      <th>2</th>\n",
       "      <td>AS14.01</td>\n",
       "      <td>2014-02-26 15:00:00.000</td>\n",
       "      <td>mood</td>\n",
       "      <td>6.0</td>\n",
       "    </tr>\n",
       "    <tr>\n",
       "      <th>3</th>\n",
       "      <td>AS14.01</td>\n",
       "      <td>2014-02-26 18:00:00.000</td>\n",
       "      <td>mood</td>\n",
       "      <td>6.0</td>\n",
       "    </tr>\n",
       "    <tr>\n",
       "      <th>4</th>\n",
       "      <td>AS14.01</td>\n",
       "      <td>2014-02-26 21:00:00.000</td>\n",
       "      <td>mood</td>\n",
       "      <td>7.0</td>\n",
       "    </tr>\n",
       "    <tr>\n",
       "      <th>5</th>\n",
       "      <td>AS14.01</td>\n",
       "      <td>2014-02-27 09:00:00.000</td>\n",
       "      <td>mood</td>\n",
       "      <td>6.0</td>\n",
       "    </tr>\n",
       "  </tbody>\n",
       "</table>\n",
       "</div>"
      ],
      "text/plain": [
       "        id                     time variable  value\n",
       "1  AS14.01  2014-02-26 13:00:00.000     mood    6.0\n",
       "2  AS14.01  2014-02-26 15:00:00.000     mood    6.0\n",
       "3  AS14.01  2014-02-26 18:00:00.000     mood    6.0\n",
       "4  AS14.01  2014-02-26 21:00:00.000     mood    7.0\n",
       "5  AS14.01  2014-02-27 09:00:00.000     mood    6.0"
      ]
     },
     "execution_count": 2,
     "metadata": {},
     "output_type": "execute_result"
    }
   ],
   "source": [
    "df = pd.read_csv('Datasets/mood_smartphone.csv', index_col=0)\n",
    "\n",
    "df.head(5)"
   ]
  },
  {
   "cell_type": "code",
   "execution_count": 3,
   "metadata": {},
   "outputs": [
    {
     "ename": "TypeError",
     "evalue": "'int' object is not subscriptable",
     "output_type": "error",
     "traceback": [
      "\u001b[0;31m---------------------------------------------------------------------------\u001b[0m",
      "\u001b[0;31mTypeError\u001b[0m                                 Traceback (most recent call last)",
      "\u001b[1;32m/Users/QuinnScot/Desktop/AI/P5/DM/course_dmt/ass1/testing_all_pipelines.ipynb Cell 3\u001b[0m in \u001b[0;36m<cell line: 1>\u001b[0;34m()\u001b[0m\n\u001b[0;32m----> <a href='vscode-notebook-cell:/Users/QuinnScot/Desktop/AI/P5/DM/course_dmt/ass1/testing_all_pipelines.ipynb#W2sZmlsZQ%3D%3D?line=0'>1</a>\u001b[0m dcp\u001b[39m.\u001b[39;49mmain(df)\u001b[39m.\u001b[39mhead(\u001b[39m5\u001b[39m)\n",
      "File \u001b[0;32m~/Desktop/AI/P5/DM/course_dmt/ass1/Data_cleaning_pipeline.py:164\u001b[0m, in \u001b[0;36mmain\u001b[0;34m(df)\u001b[0m\n\u001b[1;32m    160\u001b[0m df \u001b[39m=\u001b[39m pd\u001b[39m.\u001b[39mread_csv(\u001b[39m'\u001b[39m\u001b[39mDatasets/dataset_mood_smartphone.csv\u001b[39m\u001b[39m'\u001b[39m)\n\u001b[1;32m    162\u001b[0m df \u001b[39m=\u001b[39m group_df_and_aggregate(df)\n\u001b[0;32m--> 164\u001b[0m df \u001b[39m=\u001b[39m range_removal(\u001b[39m1\u001b[39;49m, \u001b[39m10\u001b[39;49m, \u001b[39m'\u001b[39;49m\u001b[39mmood\u001b[39;49m\u001b[39m'\u001b[39;49m, df)\n\u001b[1;32m    165\u001b[0m df \u001b[39m=\u001b[39m range_removal(\u001b[39m-\u001b[39m\u001b[39m2\u001b[39m, \u001b[39m2\u001b[39m, \u001b[39m'\u001b[39m\u001b[39mcircumplex.arousal\u001b[39m\u001b[39m'\u001b[39m, df)\n\u001b[1;32m    166\u001b[0m df \u001b[39m=\u001b[39m range_removal(\u001b[39m-\u001b[39m\u001b[39m2\u001b[39m, \u001b[39m2\u001b[39m, \u001b[39m'\u001b[39m\u001b[39mcircumplex.valence\u001b[39m\u001b[39m'\u001b[39m, df)\n",
      "File \u001b[0;32m~/Desktop/AI/P5/DM/course_dmt/ass1/Data_cleaning_pipeline.py:25\u001b[0m, in \u001b[0;36mrange_removal\u001b[0;34m(dataframe, lower, upper, column_name, keep_nan)\u001b[0m\n\u001b[1;32m     23\u001b[0m \u001b[39mdef\u001b[39;00m \u001b[39mrange_removal\u001b[39m(dataframe, lower, upper, column_name, keep_nan\u001b[39m=\u001b[39m\u001b[39mTrue\u001b[39;00m):\n\u001b[0;32m---> 25\u001b[0m     column \u001b[39m=\u001b[39m dataframe[column_name]\n\u001b[1;32m     27\u001b[0m     \u001b[39mif\u001b[39;00m keep_nan:\n\u001b[1;32m     28\u001b[0m         \u001b[39m# If we want to keep the NaN values use this\u001b[39;00m\n\u001b[1;32m     29\u001b[0m         filtered_df \u001b[39m=\u001b[39m dataframe[column\u001b[39m.\u001b[39mbetween(lower, upper) \u001b[39m|\u001b[39m column\u001b[39m.\u001b[39misna()]\n",
      "\u001b[0;31mTypeError\u001b[0m: 'int' object is not subscriptable"
     ]
    }
   ],
   "source": [
    "dcp.main(df).head(5)"
   ]
  }
 ],
 "metadata": {
  "kernelspec": {
   "display_name": "Python 3",
   "language": "python",
   "name": "python3"
  },
  "language_info": {
   "codemirror_mode": {
    "name": "ipython",
    "version": 3
   },
   "file_extension": ".py",
   "mimetype": "text/x-python",
   "name": "python",
   "nbconvert_exporter": "python",
   "pygments_lexer": "ipython3",
   "version": "3.9.0"
  },
  "orig_nbformat": 4
 },
 "nbformat": 4,
 "nbformat_minor": 2
}
