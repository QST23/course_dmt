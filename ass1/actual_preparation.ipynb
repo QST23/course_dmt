{
 "cells": [
  {
   "attachments": {},
   "cell_type": "markdown",
   "metadata": {},
   "source": [
    "# Notebook for actual cleaning"
   ]
  },
  {
   "attachments": {},
   "cell_type": "markdown",
   "metadata": {},
   "source": [
    "includes:\n",
    "- Removing records (outliers)\n",
    "- Adjusting (mis-scaled values)\n",
    "- Imputing (missing values)\n",
    "- etc"
   ]
  },
  {
   "cell_type": "code",
   "execution_count": 40,
   "metadata": {},
   "outputs": [],
   "source": [
    "import pandas as pd \n",
    "import numpy as np\n",
    "import matplotlib.pyplot as plt\n",
    "import seaborn as sns"
   ]
  },
  {
   "attachments": {},
   "cell_type": "markdown",
   "metadata": {},
   "source": [
    "## Data import and transform"
   ]
  },
  {
   "cell_type": "code",
   "execution_count": null,
   "metadata": {},
   "outputs": [],
   "source": [
    "# Read in the data\n",
    "input_df = pd.read_csv('Datasets/dataset_mood_smartphone.csv')\n",
    "\n",
    "df = input_df.copy()\n",
    "\n",
    "#split date and time\n",
    "df['hour'] = pd.to_datetime(df['time']).dt.time\n",
    "df['date'] = pd.to_datetime(df['time']).dt.date\n",
    "\n",
    "#round hour to miliseconds\n",
    "df['hour'] = df['hour'].apply(lambda x: x.replace(microsecond=0))\n",
    "df.tail()"
   ]
  },
  {
   "cell_type": "code",
   "execution_count": 34,
   "metadata": {},
   "outputs": [
    {
     "name": "stdout",
     "output_type": "stream",
     "text": [
      "Index(['Unnamed: 0', 'id', 'time', 'variable', 'value', 'hour', 'date'], dtype='object')\n"
     ]
    },
    {
     "data": {
      "text/html": [
       "<div>\n",
       "<style scoped>\n",
       "    .dataframe tbody tr th:only-of-type {\n",
       "        vertical-align: middle;\n",
       "    }\n",
       "\n",
       "    .dataframe tbody tr th {\n",
       "        vertical-align: top;\n",
       "    }\n",
       "\n",
       "    .dataframe thead th {\n",
       "        text-align: right;\n",
       "    }\n",
       "</style>\n",
       "<table border=\"1\" class=\"dataframe\">\n",
       "  <thead>\n",
       "    <tr style=\"text-align: right;\">\n",
       "      <th></th>\n",
       "      <th>id</th>\n",
       "      <th>date</th>\n",
       "      <th>hour</th>\n",
       "      <th>variable</th>\n",
       "      <th>value</th>\n",
       "    </tr>\n",
       "  </thead>\n",
       "  <tbody>\n",
       "    <tr>\n",
       "      <th>376907</th>\n",
       "      <td>AS14.30</td>\n",
       "      <td>2014-04-11</td>\n",
       "      <td>07:51:16</td>\n",
       "      <td>appCat.weather</td>\n",
       "      <td>8.032</td>\n",
       "    </tr>\n",
       "    <tr>\n",
       "      <th>376908</th>\n",
       "      <td>AS14.30</td>\n",
       "      <td>2014-04-19</td>\n",
       "      <td>11:00:32</td>\n",
       "      <td>appCat.weather</td>\n",
       "      <td>3.008</td>\n",
       "    </tr>\n",
       "    <tr>\n",
       "      <th>376909</th>\n",
       "      <td>AS14.30</td>\n",
       "      <td>2014-04-26</td>\n",
       "      <td>10:19:07</td>\n",
       "      <td>appCat.weather</td>\n",
       "      <td>7.026</td>\n",
       "    </tr>\n",
       "    <tr>\n",
       "      <th>376910</th>\n",
       "      <td>AS14.30</td>\n",
       "      <td>2014-04-27</td>\n",
       "      <td>00:44:48</td>\n",
       "      <td>appCat.weather</td>\n",
       "      <td>23.033</td>\n",
       "    </tr>\n",
       "    <tr>\n",
       "      <th>376911</th>\n",
       "      <td>AS14.32</td>\n",
       "      <td>2014-04-07</td>\n",
       "      <td>18:25:14</td>\n",
       "      <td>appCat.weather</td>\n",
       "      <td>22.431</td>\n",
       "    </tr>\n",
       "  </tbody>\n",
       "</table>\n",
       "</div>"
      ],
      "text/plain": [
       "             id        date      hour        variable   value\n",
       "376907  AS14.30  2014-04-11  07:51:16  appCat.weather   8.032\n",
       "376908  AS14.30  2014-04-19  11:00:32  appCat.weather   3.008\n",
       "376909  AS14.30  2014-04-26  10:19:07  appCat.weather   7.026\n",
       "376910  AS14.30  2014-04-27  00:44:48  appCat.weather  23.033\n",
       "376911  AS14.32  2014-04-07  18:25:14  appCat.weather  22.431"
      ]
     },
     "execution_count": 34,
     "metadata": {},
     "output_type": "execute_result"
    }
   ],
   "source": [
    "#reorder columns\n",
    "print(df.columns)\n",
    "df = df[['id', 'date', 'hour', 'variable', 'value']]\n",
    "\n",
    "df.tail()"
   ]
  },
  {
   "cell_type": "code",
   "execution_count": 35,
   "metadata": {},
   "outputs": [
    {
     "data": {
      "text/plain": [
       "array(['mood', 'circumplex.arousal', 'circumplex.valence', 'activity',\n",
       "       'screen', 'call', 'sms', 'appCat.builtin', 'appCat.communication',\n",
       "       'appCat.entertainment', 'appCat.finance', 'appCat.game',\n",
       "       'appCat.office', 'appCat.other', 'appCat.social', 'appCat.travel',\n",
       "       'appCat.unknown', 'appCat.utilities', 'appCat.weather'],\n",
       "      dtype=object)"
      ]
     },
     "execution_count": 35,
     "metadata": {},
     "output_type": "execute_result"
    }
   ],
   "source": [
    "#unique variable values\n",
    "df['variable'].unique()"
   ]
  },
  {
   "attachments": {},
   "cell_type": "markdown",
   "metadata": {},
   "source": [
    "## Investigation\n",
    "\n",
    "It seems from the previous used notebooks that the pivoted df has around 20.000 less records than the initial.\n",
    "Next section was to find out why\n",
    "\n",
    "Answer:\n",
    "Since the pivoted df joins all records with the same id, date, time combination, records of 'valence', 'mood' and 'arousal' are merged into a single record (these are recorded at the same moment: whole hours). \n",
    "However, this is not for all situations: see final two instances of the printed df down below. It seems that summing these values in the aggregation makes most sense."
   ]
  },
  {
   "cell_type": "code",
   "execution_count": 39,
   "metadata": {},
   "outputs": [
    {
     "data": {
      "text/html": [
       "<div>\n",
       "<style scoped>\n",
       "    .dataframe tbody tr th:only-of-type {\n",
       "        vertical-align: middle;\n",
       "    }\n",
       "\n",
       "    .dataframe tbody tr th {\n",
       "        vertical-align: top;\n",
       "    }\n",
       "\n",
       "    .dataframe thead th {\n",
       "        text-align: right;\n",
       "    }\n",
       "</style>\n",
       "<table border=\"1\" class=\"dataframe\">\n",
       "  <thead>\n",
       "    <tr style=\"text-align: right;\">\n",
       "      <th></th>\n",
       "      <th>id</th>\n",
       "      <th>date</th>\n",
       "      <th>hour</th>\n",
       "      <th>variable</th>\n",
       "      <th>value</th>\n",
       "    </tr>\n",
       "  </thead>\n",
       "  <tbody>\n",
       "    <tr>\n",
       "      <th>0</th>\n",
       "      <td>AS14.01</td>\n",
       "      <td>2014-02-26</td>\n",
       "      <td>13:00:00</td>\n",
       "      <td>mood</td>\n",
       "      <td>6.000</td>\n",
       "    </tr>\n",
       "    <tr>\n",
       "      <th>1</th>\n",
       "      <td>AS14.01</td>\n",
       "      <td>2014-02-26</td>\n",
       "      <td>13:00:00</td>\n",
       "      <td>circumplex.arousal</td>\n",
       "      <td>-1.000</td>\n",
       "    </tr>\n",
       "    <tr>\n",
       "      <th>2</th>\n",
       "      <td>AS14.01</td>\n",
       "      <td>2014-02-26</td>\n",
       "      <td>13:00:00</td>\n",
       "      <td>circumplex.valence</td>\n",
       "      <td>0.000</td>\n",
       "    </tr>\n",
       "    <tr>\n",
       "      <th>3</th>\n",
       "      <td>AS14.01</td>\n",
       "      <td>2014-02-26</td>\n",
       "      <td>15:00:00</td>\n",
       "      <td>mood</td>\n",
       "      <td>6.000</td>\n",
       "    </tr>\n",
       "    <tr>\n",
       "      <th>4</th>\n",
       "      <td>AS14.01</td>\n",
       "      <td>2014-02-26</td>\n",
       "      <td>15:00:00</td>\n",
       "      <td>circumplex.arousal</td>\n",
       "      <td>-1.000</td>\n",
       "    </tr>\n",
       "    <tr>\n",
       "      <th>...</th>\n",
       "      <td>...</td>\n",
       "      <td>...</td>\n",
       "      <td>...</td>\n",
       "      <td>...</td>\n",
       "      <td>...</td>\n",
       "    </tr>\n",
       "    <tr>\n",
       "      <th>207487</th>\n",
       "      <td>AS14.33</td>\n",
       "      <td>2014-05-04</td>\n",
       "      <td>04:13:12</td>\n",
       "      <td>appCat.builtin</td>\n",
       "      <td>1.018</td>\n",
       "    </tr>\n",
       "    <tr>\n",
       "      <th>207488</th>\n",
       "      <td>AS14.25</td>\n",
       "      <td>2014-04-28</td>\n",
       "      <td>11:54:00</td>\n",
       "      <td>appCat.builtin</td>\n",
       "      <td>0.836</td>\n",
       "    </tr>\n",
       "    <tr>\n",
       "      <th>207489</th>\n",
       "      <td>AS14.25</td>\n",
       "      <td>2014-04-28</td>\n",
       "      <td>11:54:00</td>\n",
       "      <td>appCat.communication</td>\n",
       "      <td>38.142</td>\n",
       "    </tr>\n",
       "    <tr>\n",
       "      <th>207490</th>\n",
       "      <td>AS14.28</td>\n",
       "      <td>2014-04-09</td>\n",
       "      <td>11:11:42</td>\n",
       "      <td>appCat.builtin</td>\n",
       "      <td>0.325</td>\n",
       "    </tr>\n",
       "    <tr>\n",
       "      <th>207491</th>\n",
       "      <td>AS14.28</td>\n",
       "      <td>2014-04-09</td>\n",
       "      <td>11:11:42</td>\n",
       "      <td>appCat.builtin</td>\n",
       "      <td>3.662</td>\n",
       "    </tr>\n",
       "  </tbody>\n",
       "</table>\n",
       "<p>207492 rows × 5 columns</p>\n",
       "</div>"
      ],
      "text/plain": [
       "             id        date      hour              variable   value\n",
       "0       AS14.01  2014-02-26  13:00:00                  mood   6.000\n",
       "1       AS14.01  2014-02-26  13:00:00    circumplex.arousal  -1.000\n",
       "2       AS14.01  2014-02-26  13:00:00    circumplex.valence   0.000\n",
       "3       AS14.01  2014-02-26  15:00:00                  mood   6.000\n",
       "4       AS14.01  2014-02-26  15:00:00    circumplex.arousal  -1.000\n",
       "...         ...         ...       ...                   ...     ...\n",
       "207487  AS14.33  2014-05-04  04:13:12        appCat.builtin   1.018\n",
       "207488  AS14.25  2014-04-28  11:54:00        appCat.builtin   0.836\n",
       "207489  AS14.25  2014-04-28  11:54:00  appCat.communication  38.142\n",
       "207490  AS14.28  2014-04-09  11:11:42        appCat.builtin   0.325\n",
       "207491  AS14.28  2014-04-09  11:11:42        appCat.builtin   3.662\n",
       "\n",
       "[207492 rows x 5 columns]"
      ]
     },
     "execution_count": 39,
     "metadata": {},
     "output_type": "execute_result"
    }
   ],
   "source": [
    "#cant aggreagate yet, as there apear to be instances with dubplicate \"user, date, hour\" combinations\n",
    "\n",
    "def find_duplicate_combinations(df):\n",
    "    # Group the rows by 'id', 'date', and 'hour'\n",
    "    grouped = df.groupby(['id', 'date', 'hour'])\n",
    "    \n",
    "    # Get the groups with more than one row\n",
    "    groups_with_duplicates = grouped.filter(lambda x: len(x) > 1)\n",
    "    \n",
    "    # Get the duplicated combinations of 'id', 'date', and 'hour'\n",
    "    duplicated_combinations = groups_with_duplicates[['id', 'date', 'hour']].drop_duplicates()\n",
    "    \n",
    "    # Get the rows corresponding to the duplicated combinations\n",
    "    duplicated_rows = pd.merge(duplicated_combinations, df, on=['id', 'date', 'hour'])\n",
    "    \n",
    "    return duplicated_rows\n",
    "\n",
    "find_duplicate_combinations(df)"
   ]
  },
  {
   "attachments": {},
   "cell_type": "markdown",
   "metadata": {},
   "source": [
    "## Aggregate data\n",
    "Lets try some different methods, and see if the df's differ. If so, which one is better?"
   ]
  },
  {
   "cell_type": "code",
   "execution_count": 37,
   "metadata": {},
   "outputs": [
    {
     "ename": "ValueError",
     "evalue": "Index contains duplicate entries, cannot reshape",
     "output_type": "error",
     "traceback": [
      "\u001b[0;31m---------------------------------------------------------------------------\u001b[0m",
      "\u001b[0;31mValueError\u001b[0m                                Traceback (most recent call last)",
      "\u001b[1;32m/Users/QuinnScot/Desktop/AI/P5/DM/course_dmt/ass1/actual_preparation.ipynb Cell 6\u001b[0m in \u001b[0;36m<cell line: 10>\u001b[0;34m()\u001b[0m\n\u001b[1;32m      <a href='vscode-notebook-cell:/Users/QuinnScot/Desktop/AI/P5/DM/course_dmt/ass1/actual_preparation.ipynb#X14sZmlsZQ%3D%3D?line=5'>6</a>\u001b[0m     transformed_df \u001b[39m=\u001b[39m pivoted_df\u001b[39m.\u001b[39mreset_index()\n\u001b[1;32m      <a href='vscode-notebook-cell:/Users/QuinnScot/Desktop/AI/P5/DM/course_dmt/ass1/actual_preparation.ipynb#X14sZmlsZQ%3D%3D?line=7'>8</a>\u001b[0m     \u001b[39mreturn\u001b[39;00m transformed_df\n\u001b[0;32m---> <a href='vscode-notebook-cell:/Users/QuinnScot/Desktop/AI/P5/DM/course_dmt/ass1/actual_preparation.ipynb#X14sZmlsZQ%3D%3D?line=9'>10</a>\u001b[0m test \u001b[39m=\u001b[39m transform_dataframe(df)\n\u001b[1;32m     <a href='vscode-notebook-cell:/Users/QuinnScot/Desktop/AI/P5/DM/course_dmt/ass1/actual_preparation.ipynb#X14sZmlsZQ%3D%3D?line=10'>11</a>\u001b[0m test\n",
      "\u001b[1;32m/Users/QuinnScot/Desktop/AI/P5/DM/course_dmt/ass1/actual_preparation.ipynb Cell 6\u001b[0m in \u001b[0;36mtransform_dataframe\u001b[0;34m(df)\u001b[0m\n\u001b[1;32m      <a href='vscode-notebook-cell:/Users/QuinnScot/Desktop/AI/P5/DM/course_dmt/ass1/actual_preparation.ipynb#X14sZmlsZQ%3D%3D?line=0'>1</a>\u001b[0m \u001b[39mdef\u001b[39;00m \u001b[39mtransform_dataframe\u001b[39m(df):\n\u001b[1;32m      <a href='vscode-notebook-cell:/Users/QuinnScot/Desktop/AI/P5/DM/course_dmt/ass1/actual_preparation.ipynb#X14sZmlsZQ%3D%3D?line=1'>2</a>\u001b[0m     \u001b[39m# Pivot the dataframe to create a new column for each unique value in the 'variable' column\u001b[39;00m\n\u001b[0;32m----> <a href='vscode-notebook-cell:/Users/QuinnScot/Desktop/AI/P5/DM/course_dmt/ass1/actual_preparation.ipynb#X14sZmlsZQ%3D%3D?line=2'>3</a>\u001b[0m     pivoted_df \u001b[39m=\u001b[39m df\u001b[39m.\u001b[39;49mpivot(index\u001b[39m=\u001b[39;49m[\u001b[39m'\u001b[39;49m\u001b[39mid\u001b[39;49m\u001b[39m'\u001b[39;49m, \u001b[39m'\u001b[39;49m\u001b[39mdate\u001b[39;49m\u001b[39m'\u001b[39;49m, \u001b[39m'\u001b[39;49m\u001b[39mhour\u001b[39;49m\u001b[39m'\u001b[39;49m], columns\u001b[39m=\u001b[39;49m\u001b[39m'\u001b[39;49m\u001b[39mvariable\u001b[39;49m\u001b[39m'\u001b[39;49m, values\u001b[39m=\u001b[39;49m\u001b[39m'\u001b[39;49m\u001b[39mvalue\u001b[39;49m\u001b[39m'\u001b[39;49m)\n\u001b[1;32m      <a href='vscode-notebook-cell:/Users/QuinnScot/Desktop/AI/P5/DM/course_dmt/ass1/actual_preparation.ipynb#X14sZmlsZQ%3D%3D?line=4'>5</a>\u001b[0m     \u001b[39m# Reset the index to make the 'id', 'date', and 'hour' columns regular columns\u001b[39;00m\n\u001b[1;32m      <a href='vscode-notebook-cell:/Users/QuinnScot/Desktop/AI/P5/DM/course_dmt/ass1/actual_preparation.ipynb#X14sZmlsZQ%3D%3D?line=5'>6</a>\u001b[0m     transformed_df \u001b[39m=\u001b[39m pivoted_df\u001b[39m.\u001b[39mreset_index()\n",
      "File \u001b[0;32m~/.pyenv/versions/3.9.0/lib/python3.9/site-packages/pandas/core/frame.py:7882\u001b[0m, in \u001b[0;36mDataFrame.pivot\u001b[0;34m(self, index, columns, values)\u001b[0m\n\u001b[1;32m   7877\u001b[0m \u001b[39m@Substitution\u001b[39m(\u001b[39m\"\u001b[39m\u001b[39m\"\u001b[39m)\n\u001b[1;32m   7878\u001b[0m \u001b[39m@Appender\u001b[39m(_shared_docs[\u001b[39m\"\u001b[39m\u001b[39mpivot\u001b[39m\u001b[39m\"\u001b[39m])\n\u001b[1;32m   7879\u001b[0m \u001b[39mdef\u001b[39;00m \u001b[39mpivot\u001b[39m(\u001b[39mself\u001b[39m, index\u001b[39m=\u001b[39m\u001b[39mNone\u001b[39;00m, columns\u001b[39m=\u001b[39m\u001b[39mNone\u001b[39;00m, values\u001b[39m=\u001b[39m\u001b[39mNone\u001b[39;00m) \u001b[39m-\u001b[39m\u001b[39m>\u001b[39m DataFrame:\n\u001b[1;32m   7880\u001b[0m     \u001b[39mfrom\u001b[39;00m \u001b[39mpandas\u001b[39;00m\u001b[39m.\u001b[39;00m\u001b[39mcore\u001b[39;00m\u001b[39m.\u001b[39;00m\u001b[39mreshape\u001b[39;00m\u001b[39m.\u001b[39;00m\u001b[39mpivot\u001b[39;00m \u001b[39mimport\u001b[39;00m pivot\n\u001b[0;32m-> 7882\u001b[0m     \u001b[39mreturn\u001b[39;00m pivot(\u001b[39mself\u001b[39;49m, index\u001b[39m=\u001b[39;49mindex, columns\u001b[39m=\u001b[39;49mcolumns, values\u001b[39m=\u001b[39;49mvalues)\n",
      "File \u001b[0;32m~/.pyenv/versions/3.9.0/lib/python3.9/site-packages/pandas/core/reshape/pivot.py:520\u001b[0m, in \u001b[0;36mpivot\u001b[0;34m(data, index, columns, values)\u001b[0m\n\u001b[1;32m    518\u001b[0m     \u001b[39melse\u001b[39;00m:\n\u001b[1;32m    519\u001b[0m         indexed \u001b[39m=\u001b[39m data\u001b[39m.\u001b[39m_constructor_sliced(data[values]\u001b[39m.\u001b[39m_values, index\u001b[39m=\u001b[39mmultiindex)\n\u001b[0;32m--> 520\u001b[0m \u001b[39mreturn\u001b[39;00m indexed\u001b[39m.\u001b[39;49munstack(columns_listlike)\n",
      "File \u001b[0;32m~/.pyenv/versions/3.9.0/lib/python3.9/site-packages/pandas/core/series.py:4157\u001b[0m, in \u001b[0;36mSeries.unstack\u001b[0;34m(self, level, fill_value)\u001b[0m\n\u001b[1;32m   4114\u001b[0m \u001b[39m\"\"\"\u001b[39;00m\n\u001b[1;32m   4115\u001b[0m \u001b[39mUnstack, also known as pivot, Series with MultiIndex to produce DataFrame.\u001b[39;00m\n\u001b[1;32m   4116\u001b[0m \n\u001b[0;32m   (...)\u001b[0m\n\u001b[1;32m   4153\u001b[0m \u001b[39mb    2    4\u001b[39;00m\n\u001b[1;32m   4154\u001b[0m \u001b[39m\"\"\"\u001b[39;00m\n\u001b[1;32m   4155\u001b[0m \u001b[39mfrom\u001b[39;00m \u001b[39mpandas\u001b[39;00m\u001b[39m.\u001b[39;00m\u001b[39mcore\u001b[39;00m\u001b[39m.\u001b[39;00m\u001b[39mreshape\u001b[39;00m\u001b[39m.\u001b[39;00m\u001b[39mreshape\u001b[39;00m \u001b[39mimport\u001b[39;00m unstack\n\u001b[0;32m-> 4157\u001b[0m \u001b[39mreturn\u001b[39;00m unstack(\u001b[39mself\u001b[39;49m, level, fill_value)\n",
      "File \u001b[0;32m~/.pyenv/versions/3.9.0/lib/python3.9/site-packages/pandas/core/reshape/reshape.py:491\u001b[0m, in \u001b[0;36munstack\u001b[0;34m(obj, level, fill_value)\u001b[0m\n\u001b[1;32m    489\u001b[0m \u001b[39mif\u001b[39;00m is_1d_only_ea_dtype(obj\u001b[39m.\u001b[39mdtype):\n\u001b[1;32m    490\u001b[0m     \u001b[39mreturn\u001b[39;00m _unstack_extension_series(obj, level, fill_value)\n\u001b[0;32m--> 491\u001b[0m unstacker \u001b[39m=\u001b[39m _Unstacker(\n\u001b[1;32m    492\u001b[0m     obj\u001b[39m.\u001b[39;49mindex, level\u001b[39m=\u001b[39;49mlevel, constructor\u001b[39m=\u001b[39;49mobj\u001b[39m.\u001b[39;49m_constructor_expanddim\n\u001b[1;32m    493\u001b[0m )\n\u001b[1;32m    494\u001b[0m \u001b[39mreturn\u001b[39;00m unstacker\u001b[39m.\u001b[39mget_result(\n\u001b[1;32m    495\u001b[0m     obj\u001b[39m.\u001b[39m_values, value_columns\u001b[39m=\u001b[39m\u001b[39mNone\u001b[39;00m, fill_value\u001b[39m=\u001b[39mfill_value\n\u001b[1;32m    496\u001b[0m )\n",
      "File \u001b[0;32m~/.pyenv/versions/3.9.0/lib/python3.9/site-packages/pandas/core/reshape/reshape.py:140\u001b[0m, in \u001b[0;36m_Unstacker.__init__\u001b[0;34m(self, index, level, constructor)\u001b[0m\n\u001b[1;32m    133\u001b[0m \u001b[39mif\u001b[39;00m num_cells \u001b[39m>\u001b[39m np\u001b[39m.\u001b[39miinfo(np\u001b[39m.\u001b[39mint32)\u001b[39m.\u001b[39mmax:\n\u001b[1;32m    134\u001b[0m     warnings\u001b[39m.\u001b[39mwarn(\n\u001b[1;32m    135\u001b[0m         \u001b[39mf\u001b[39m\u001b[39m\"\u001b[39m\u001b[39mThe following operation may generate \u001b[39m\u001b[39m{\u001b[39;00mnum_cells\u001b[39m}\u001b[39;00m\u001b[39m cells \u001b[39m\u001b[39m\"\u001b[39m\n\u001b[1;32m    136\u001b[0m         \u001b[39mf\u001b[39m\u001b[39m\"\u001b[39m\u001b[39min the resulting pandas object.\u001b[39m\u001b[39m\"\u001b[39m,\n\u001b[1;32m    137\u001b[0m         PerformanceWarning,\n\u001b[1;32m    138\u001b[0m     )\n\u001b[0;32m--> 140\u001b[0m \u001b[39mself\u001b[39;49m\u001b[39m.\u001b[39;49m_make_selectors()\n",
      "File \u001b[0;32m~/.pyenv/versions/3.9.0/lib/python3.9/site-packages/pandas/core/reshape/reshape.py:192\u001b[0m, in \u001b[0;36m_Unstacker._make_selectors\u001b[0;34m(self)\u001b[0m\n\u001b[1;32m    189\u001b[0m mask\u001b[39m.\u001b[39mput(selector, \u001b[39mTrue\u001b[39;00m)\n\u001b[1;32m    191\u001b[0m \u001b[39mif\u001b[39;00m mask\u001b[39m.\u001b[39msum() \u001b[39m<\u001b[39m \u001b[39mlen\u001b[39m(\u001b[39mself\u001b[39m\u001b[39m.\u001b[39mindex):\n\u001b[0;32m--> 192\u001b[0m     \u001b[39mraise\u001b[39;00m \u001b[39mValueError\u001b[39;00m(\u001b[39m\"\u001b[39m\u001b[39mIndex contains duplicate entries, cannot reshape\u001b[39m\u001b[39m\"\u001b[39m)\n\u001b[1;32m    194\u001b[0m \u001b[39mself\u001b[39m\u001b[39m.\u001b[39mgroup_index \u001b[39m=\u001b[39m comp_index\n\u001b[1;32m    195\u001b[0m \u001b[39mself\u001b[39m\u001b[39m.\u001b[39mmask \u001b[39m=\u001b[39m mask\n",
      "\u001b[0;31mValueError\u001b[0m: Index contains duplicate entries, cannot reshape"
     ]
    }
   ],
   "source": [
    "def transform_dataframe(df):\n",
    "    # Pivot the dataframe to create a new column for each unique value in the 'variable' column\n",
    "    pivoted_df = df.pivot(index=['id', 'date', 'hour'], columns='variable', values='value')\n",
    "    \n",
    "    # Reset the index to make the 'id', 'date', and 'hour' columns regular columns\n",
    "    transformed_df = pivoted_df.reset_index()\n",
    "    \n",
    "    return transformed_df\n",
    "\n",
    "test = transform_dataframe(df)\n",
    "test"
   ]
  },
  {
   "cell_type": "code",
   "execution_count": 19,
   "metadata": {},
   "outputs": [
    {
     "data": {
      "text/html": [
       "<div>\n",
       "<style scoped>\n",
       "    .dataframe tbody tr th:only-of-type {\n",
       "        vertical-align: middle;\n",
       "    }\n",
       "\n",
       "    .dataframe tbody tr th {\n",
       "        vertical-align: top;\n",
       "    }\n",
       "\n",
       "    .dataframe thead th {\n",
       "        text-align: right;\n",
       "    }\n",
       "</style>\n",
       "<table border=\"1\" class=\"dataframe\">\n",
       "  <thead>\n",
       "    <tr style=\"text-align: right;\">\n",
       "      <th></th>\n",
       "      <th>Unnamed: 0</th>\n",
       "      <th>id</th>\n",
       "      <th>time</th>\n",
       "      <th>variable</th>\n",
       "      <th>value</th>\n",
       "      <th>hour</th>\n",
       "      <th>date</th>\n",
       "    </tr>\n",
       "  </thead>\n",
       "  <tbody>\n",
       "    <tr>\n",
       "      <th>376907</th>\n",
       "      <td>2770399</td>\n",
       "      <td>AS14.30</td>\n",
       "      <td>2014-04-11 07:51:16.948</td>\n",
       "      <td>appCat.weather</td>\n",
       "      <td>8.032</td>\n",
       "      <td>07:00:00</td>\n",
       "      <td>2014-04-11</td>\n",
       "    </tr>\n",
       "    <tr>\n",
       "      <th>376908</th>\n",
       "      <td>2772465</td>\n",
       "      <td>AS14.30</td>\n",
       "      <td>2014-04-19 11:00:32.747</td>\n",
       "      <td>appCat.weather</td>\n",
       "      <td>3.008</td>\n",
       "      <td>11:00:00</td>\n",
       "      <td>2014-04-19</td>\n",
       "    </tr>\n",
       "    <tr>\n",
       "      <th>376909</th>\n",
       "      <td>2774026</td>\n",
       "      <td>AS14.30</td>\n",
       "      <td>2014-04-26 10:19:07.434</td>\n",
       "      <td>appCat.weather</td>\n",
       "      <td>7.026</td>\n",
       "      <td>10:00:00</td>\n",
       "      <td>2014-04-26</td>\n",
       "    </tr>\n",
       "    <tr>\n",
       "      <th>376910</th>\n",
       "      <td>2774133</td>\n",
       "      <td>AS14.30</td>\n",
       "      <td>2014-04-27 00:44:48.450</td>\n",
       "      <td>appCat.weather</td>\n",
       "      <td>23.033</td>\n",
       "      <td>00:00:00</td>\n",
       "      <td>2014-04-27</td>\n",
       "    </tr>\n",
       "    <tr>\n",
       "      <th>376911</th>\n",
       "      <td>2784435</td>\n",
       "      <td>AS14.32</td>\n",
       "      <td>2014-04-07 18:25:14.036</td>\n",
       "      <td>appCat.weather</td>\n",
       "      <td>22.431</td>\n",
       "      <td>18:00:00</td>\n",
       "      <td>2014-04-07</td>\n",
       "    </tr>\n",
       "  </tbody>\n",
       "</table>\n",
       "</div>"
      ],
      "text/plain": [
       "        Unnamed: 0       id                     time        variable   value  \\\n",
       "376907     2770399  AS14.30  2014-04-11 07:51:16.948  appCat.weather   8.032   \n",
       "376908     2772465  AS14.30  2014-04-19 11:00:32.747  appCat.weather   3.008   \n",
       "376909     2774026  AS14.30  2014-04-26 10:19:07.434  appCat.weather   7.026   \n",
       "376910     2774133  AS14.30  2014-04-27 00:44:48.450  appCat.weather  23.033   \n",
       "376911     2784435  AS14.32  2014-04-07 18:25:14.036  appCat.weather  22.431   \n",
       "\n",
       "            hour        date  \n",
       "376907  07:00:00  2014-04-11  \n",
       "376908  11:00:00  2014-04-19  \n",
       "376909  10:00:00  2014-04-26  \n",
       "376910  00:00:00  2014-04-27  \n",
       "376911  18:00:00  2014-04-07  "
      ]
     },
     "execution_count": 19,
     "metadata": {},
     "output_type": "execute_result"
    }
   ],
   "source": [
    "#round to hour\n",
    "df['hour'] = df['hour'].apply(lambda x: x.replace(minute=0, second=0))\n",
    "\n",
    "df.tail()"
   ]
  },
  {
   "cell_type": "code",
   "execution_count": 4,
   "metadata": {},
   "outputs": [
    {
     "ename": "AttributeError",
     "evalue": "Can only use .dt accessor with datetimelike values",
     "output_type": "error",
     "traceback": [
      "\u001b[0;31m---------------------------------------------------------------------------\u001b[0m",
      "\u001b[0;31mAttributeError\u001b[0m                            Traceback (most recent call last)",
      "\u001b[1;32m/Users/QuinnScot/Desktop/AI/P5/DM/course_dmt/ass1/actual_preparation.ipynb Cell 3\u001b[0m in \u001b[0;36m<cell line: 7>\u001b[0;34m()\u001b[0m\n\u001b[1;32m      <a href='vscode-notebook-cell:/Users/QuinnScot/Desktop/AI/P5/DM/course_dmt/ass1/actual_preparation.ipynb#W2sZmlsZQ%3D%3D?line=2'>3</a>\u001b[0m df[\u001b[39m'\u001b[39m\u001b[39mtime\u001b[39m\u001b[39m'\u001b[39m] \u001b[39m=\u001b[39m pd\u001b[39m.\u001b[39mto_datetime(df[\u001b[39m'\u001b[39m\u001b[39mtime\u001b[39m\u001b[39m'\u001b[39m])\u001b[39m.\u001b[39mdt\u001b[39m.\u001b[39mtime\n\u001b[1;32m      <a href='vscode-notebook-cell:/Users/QuinnScot/Desktop/AI/P5/DM/course_dmt/ass1/actual_preparation.ipynb#W2sZmlsZQ%3D%3D?line=5'>6</a>\u001b[0m \u001b[39m# round time to nearest hour and group by time, person_id, and variable\u001b[39;00m\n\u001b[0;32m----> <a href='vscode-notebook-cell:/Users/QuinnScot/Desktop/AI/P5/DM/course_dmt/ass1/actual_preparation.ipynb#W2sZmlsZQ%3D%3D?line=6'>7</a>\u001b[0m df[\u001b[39m'\u001b[39m\u001b[39mtime_hour\u001b[39m\u001b[39m'\u001b[39m] \u001b[39m=\u001b[39m df[\u001b[39m'\u001b[39;49m\u001b[39mtime\u001b[39;49m\u001b[39m'\u001b[39;49m]\u001b[39m.\u001b[39;49mdt\u001b[39m.\u001b[39mround(\u001b[39m'\u001b[39m\u001b[39mD\u001b[39m\u001b[39m'\u001b[39m)\n\u001b[1;32m      <a href='vscode-notebook-cell:/Users/QuinnScot/Desktop/AI/P5/DM/course_dmt/ass1/actual_preparation.ipynb#W2sZmlsZQ%3D%3D?line=7'>8</a>\u001b[0m grouped_df \u001b[39m=\u001b[39m df\u001b[39m.\u001b[39mgroupby([\u001b[39m'\u001b[39m\u001b[39mtime_hour\u001b[39m\u001b[39m'\u001b[39m, \u001b[39m'\u001b[39m\u001b[39mid\u001b[39m\u001b[39m'\u001b[39m, \u001b[39m'\u001b[39m\u001b[39mvariable\u001b[39m\u001b[39m'\u001b[39m])\u001b[39m.\u001b[39msum()\u001b[39m.\u001b[39mreset_index()\n\u001b[1;32m     <a href='vscode-notebook-cell:/Users/QuinnScot/Desktop/AI/P5/DM/course_dmt/ass1/actual_preparation.ipynb#W2sZmlsZQ%3D%3D?line=9'>10</a>\u001b[0m \u001b[39m# use pivot_table to create columns for each variable\u001b[39;00m\n",
      "File \u001b[0;32m~/.pyenv/versions/3.9.0/lib/python3.9/site-packages/pandas/core/generic.py:5575\u001b[0m, in \u001b[0;36mNDFrame.__getattr__\u001b[0;34m(self, name)\u001b[0m\n\u001b[1;32m   5568\u001b[0m \u001b[39mif\u001b[39;00m (\n\u001b[1;32m   5569\u001b[0m     name \u001b[39mnot\u001b[39;00m \u001b[39min\u001b[39;00m \u001b[39mself\u001b[39m\u001b[39m.\u001b[39m_internal_names_set\n\u001b[1;32m   5570\u001b[0m     \u001b[39mand\u001b[39;00m name \u001b[39mnot\u001b[39;00m \u001b[39min\u001b[39;00m \u001b[39mself\u001b[39m\u001b[39m.\u001b[39m_metadata\n\u001b[1;32m   5571\u001b[0m     \u001b[39mand\u001b[39;00m name \u001b[39mnot\u001b[39;00m \u001b[39min\u001b[39;00m \u001b[39mself\u001b[39m\u001b[39m.\u001b[39m_accessors\n\u001b[1;32m   5572\u001b[0m     \u001b[39mand\u001b[39;00m \u001b[39mself\u001b[39m\u001b[39m.\u001b[39m_info_axis\u001b[39m.\u001b[39m_can_hold_identifiers_and_holds_name(name)\n\u001b[1;32m   5573\u001b[0m ):\n\u001b[1;32m   5574\u001b[0m     \u001b[39mreturn\u001b[39;00m \u001b[39mself\u001b[39m[name]\n\u001b[0;32m-> 5575\u001b[0m \u001b[39mreturn\u001b[39;00m \u001b[39mobject\u001b[39;49m\u001b[39m.\u001b[39;49m\u001b[39m__getattribute__\u001b[39;49m(\u001b[39mself\u001b[39;49m, name)\n",
      "File \u001b[0;32m~/.pyenv/versions/3.9.0/lib/python3.9/site-packages/pandas/core/accessor.py:182\u001b[0m, in \u001b[0;36mCachedAccessor.__get__\u001b[0;34m(self, obj, cls)\u001b[0m\n\u001b[1;32m    179\u001b[0m \u001b[39mif\u001b[39;00m obj \u001b[39mis\u001b[39;00m \u001b[39mNone\u001b[39;00m:\n\u001b[1;32m    180\u001b[0m     \u001b[39m# we're accessing the attribute of the class, i.e., Dataset.geo\u001b[39;00m\n\u001b[1;32m    181\u001b[0m     \u001b[39mreturn\u001b[39;00m \u001b[39mself\u001b[39m\u001b[39m.\u001b[39m_accessor\n\u001b[0;32m--> 182\u001b[0m accessor_obj \u001b[39m=\u001b[39m \u001b[39mself\u001b[39;49m\u001b[39m.\u001b[39;49m_accessor(obj)\n\u001b[1;32m    183\u001b[0m \u001b[39m# Replace the property with the accessor object. Inspired by:\u001b[39;00m\n\u001b[1;32m    184\u001b[0m \u001b[39m# https://www.pydanny.com/cached-property.html\u001b[39;00m\n\u001b[1;32m    185\u001b[0m \u001b[39m# We need to use object.__setattr__ because we overwrite __setattr__ on\u001b[39;00m\n\u001b[1;32m    186\u001b[0m \u001b[39m# NDFrame\u001b[39;00m\n\u001b[1;32m    187\u001b[0m \u001b[39mobject\u001b[39m\u001b[39m.\u001b[39m\u001b[39m__setattr__\u001b[39m(obj, \u001b[39mself\u001b[39m\u001b[39m.\u001b[39m_name, accessor_obj)\n",
      "File \u001b[0;32m~/.pyenv/versions/3.9.0/lib/python3.9/site-packages/pandas/core/indexes/accessors.py:509\u001b[0m, in \u001b[0;36mCombinedDatetimelikeProperties.__new__\u001b[0;34m(cls, data)\u001b[0m\n\u001b[1;32m    506\u001b[0m \u001b[39melif\u001b[39;00m is_period_dtype(data\u001b[39m.\u001b[39mdtype):\n\u001b[1;32m    507\u001b[0m     \u001b[39mreturn\u001b[39;00m PeriodProperties(data, orig)\n\u001b[0;32m--> 509\u001b[0m \u001b[39mraise\u001b[39;00m \u001b[39mAttributeError\u001b[39;00m(\u001b[39m\"\u001b[39m\u001b[39mCan only use .dt accessor with datetimelike values\u001b[39m\u001b[39m\"\u001b[39m)\n",
      "\u001b[0;31mAttributeError\u001b[0m: Can only use .dt accessor with datetimelike values"
     ]
    }
   ],
   "source": [
    "# round time to nearest hour and group by time, person_id, and variable\n",
    "df['time_hour'] = df['time'].dt.round('H')\n",
    "grouped_df = df.groupby(['time_hour', 'id', 'variable']).sum().reset_index()\n",
    "\n",
    "# use pivot_table to create columns for each variable\n",
    "pivoted_df = grouped_df.pivot_table(index=['time_hour', 'id'], columns='variable', values='value')\n",
    "\n",
    "pivoted_df"
   ]
  },
  {
   "cell_type": "code",
   "execution_count": null,
   "metadata": {},
   "outputs": [],
   "source": []
  }
 ],
 "metadata": {
  "kernelspec": {
   "display_name": "Python 3",
   "language": "python",
   "name": "python3"
  },
  "language_info": {
   "codemirror_mode": {
    "name": "ipython",
    "version": 3
   },
   "file_extension": ".py",
   "mimetype": "text/x-python",
   "name": "python",
   "nbconvert_exporter": "python",
   "pygments_lexer": "ipython3",
   "version": "3.9.0"
  },
  "orig_nbformat": 4
 },
 "nbformat": 4,
 "nbformat_minor": 2
}
