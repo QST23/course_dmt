{
 "cells": [
  {
   "cell_type": "code",
   "execution_count": null,
   "metadata": {},
   "outputs": [],
   "source": [
    "import pandas as pd\n",
    "\n",
    "df = pd.read_csv('dataset_mood_smartphone-2.csv')\n",
    "\n",
    "df.head\n",
    "\n",
    "for column in df.columns:\n",
    "    print('Column:', column)\n",
    "    print(df[column].nunique())\n",
    "    print()"
   ]
  },
  {
   "cell_type": "code",
   "execution_count": null,
   "metadata": {},
   "outputs": [],
   "source": [
    "# iterate through each pair of columns\n",
    "for col1 in df.columns:\n",
    "    for col2 in df.columns:\n",
    "        if col1 != col2:\n",
    "            # count the number of unique values for the pair of columns\n",
    "            unique_count = df.groupby([col1, col2]).size().reset_index().shape[0]\n",
    "            \n",
    "            # print the pair of columns and the number of unique values\n",
    "            print(f\"{col1} and {col2}: {unique_count} unique pairs\")"
   ]
  },
  {
   "cell_type": "code",
   "execution_count": null,
   "metadata": {},
   "outputs": [],
   "source": [
    "# convert time column to datetime format\n",
    "df['time'] = pd.to_datetime(df['time'])\n",
    "\n",
    "# round time to nearest hour and group by time, person_id, and variable\n",
    "df['time_hour'] = df['time'].dt.round('D')\n",
    "grouped_df = df.groupby(['time_hour', 'id', 'variable']).sum().reset_index()\n",
    "\n",
    "# use pivot_table to create columns for each variable\n",
    "pivoted_df = grouped_df.pivot_table(index=['time_hour', 'id'], columns='variable', values='value')\n",
    "\n",
    "pivoted_df"
   ]
  },
  {
   "cell_type": "code",
   "execution_count": null,
   "metadata": {},
   "outputs": [],
   "source": [
    "import matplotlib.pyplot as plt\n",
    "\n",
    "df['time_hour'] = pd.to_datetime(df['time_hour'])\n",
    "\n",
    "# group the data by date and plot the mood against the example for each date\n",
    "groups = df.groupby(df['time_hour'].dt.date)\n",
    "for date, group in groups:\n",
    "    fig, ax = plt.subplots()\n",
    "    ax.plot(group['appCat.communication'], group['mood'])\n",
    "    ax.set_xlabel('appCat.communication')\n",
    "    ax.set_ylabel('mood')\n",
    "    ax.set_title('Mood vs. Example for {}'.format(date))\n",
    "    plt.show()"
   ]
  },
  {
   "cell_type": "code",
   "execution_count": null,
   "metadata": {},
   "outputs": [],
   "source": [
    "df.info()\n",
    "\n",
    "df.time.dtype\n",
    "\n",
    "distinct_values = df['variable'].unique()\n",
    "\n",
    "# print the distinct values\n",
    "print(distinct_values)\n",
    "\n",
    "mood = df.loc[df['variable'] == 'mood']\n",
    "mood   "
   ]
  },
  {
   "cell_type": "code",
   "execution_count": null,
   "metadata": {},
   "outputs": [],
   "source": [
    "# loop through all the distinct values of the 'column_name' column\n",
    "for value in df['variable'].unique():\n",
    "    \n",
    "    # get the minimum and maximum value of the current value in the 'column_name' column\n",
    "    min_value = df[df['variable'] == value].min()\n",
    "    max_value = df[df['variable'] == value].max()\n",
    "    \n",
    "    # print the minimum and maximum value of the current value in the 'column_name' column\n",
    "    print(f\"Distinct value: {value}\")\n",
    "    print(f\"Minimum value: {min_value}\")\n",
    "    print(f\"Maximum value: {max_value}\")\n",
    "    print(\"\\n\")"
   ]
  }
 ],
 "metadata": {
  "language_info": {
   "name": "python"
  },
  "orig_nbformat": 4
 },
 "nbformat": 4,
 "nbformat_minor": 2
}
