{
 "cells": [
  {
   "cell_type": "code",
   "execution_count": 122,
   "metadata": {},
   "outputs": [],
   "source": [
    "import pandas as pd\n",
    "import numpy as np\n",
    "import matplotlib.pyplot as plt"
   ]
  },
  {
   "cell_type": "code",
   "execution_count": 123,
   "metadata": {},
   "outputs": [],
   "source": [
    "df = pd.read_csv('true.txt', delimiter = ',')"
   ]
  },
  {
   "cell_type": "code",
   "execution_count": 124,
   "metadata": {},
   "outputs": [],
   "source": [
    "#convert datetime \n",
    "df['date_time'] = pd.to_datetime(df['date_time'])\n",
    "\n",
    "#to year\n",
    "df['year'] = df['date_time'].dt.year\n",
    "\n",
    "#to month\n",
    "df['month'] = df['date_time'].dt.month\n",
    "\n",
    "#to day of the week\n",
    "df['day'] = df['date_time'].dt.dayofweek\n",
    "\n",
    "#to hour\n",
    "df['hour'] = df['date_time'].dt.hour"
   ]
  },
  {
   "cell_type": "code",
   "execution_count": 125,
   "metadata": {},
   "outputs": [],
   "source": [
    "#make column with Boolean value for whether it was a weekend day\n",
    "df['weekend'] = np.where(df['day'] < 5, 0, 1)"
   ]
  },
  {
   "cell_type": "code",
   "execution_count": 126,
   "metadata": {},
   "outputs": [],
   "source": [
    "#make column with Boolean value for whether the country of the hotel is different from the origin country of the user\n",
    "df['is_international_stay'] = np.where(df['visitor_location_country_id'] == df['prop_country_id'], 0, 1)"
   ]
  },
  {
   "cell_type": "code",
   "execution_count": 127,
   "metadata": {},
   "outputs": [],
   "source": [
    "#make column with Boolean value for whether the srch_length_of_stay is 1 and booking_bool is True\n",
    "df['price_per_night'] = np.where((df['srch_length_of_stay'] == 1) & (df['booking_bool'] == 1), df['price_usd'], \"NaN\")"
   ]
  },
  {
   "cell_type": "code",
   "execution_count": 128,
   "metadata": {},
   "outputs": [],
   "source": [
    "#make column with Boolean value for when children are sought for in the search and a hotel was present in the search result\n",
    "df['children_accepted'] = np.where((df['srch_children_count'] > 0) & (df['prop_id'] > 0), 1, 0)"
   ]
  },
  {
   "cell_type": "code",
   "execution_count": 129,
   "metadata": {},
   "outputs": [],
   "source": [
    "#make column with mean date of stay\n",
    "df['mean_date_stay'] = df['date_time'] + pd.to_timedelta(df['srch_booking_window'], unit='d') + (pd.to_timedelta(df['srch_length_of_stay'], unit='d')/2)\n",
    "#skip hours and minutes\n",
    "df['mean_date_stay'] = df['mean_date_stay'].dt.date"
   ]
  },
  {
   "cell_type": "code",
   "execution_count": 130,
   "metadata": {},
   "outputs": [],
   "source": [
    "#convert mean_date to number of day in year\n",
    "df['mean_date_stay'] = pd.to_datetime(df['mean_date_stay'])\n",
    "df['mean_day_stay'] = df['mean_date_stay'].dt.dayofyear"
   ]
  },
  {
   "cell_type": "code",
   "execution_count": 131,
   "metadata": {},
   "outputs": [],
   "source": [
    "spring = range(80, 172)\n",
    "summer = range(172, 264)\n",
    "fall = range(264, 355)\n",
    "\n",
    "#make column with season\n",
    "df['season_stay'] = np.where(df['mean_day_stay'].isin(spring), 'spring', np.where(df['mean_day_stay'].isin(summer), 'summer', np.where(df['mean_day_stay'].isin(fall), 'fall', 'winter')))"
   ]
  },
  {
   "cell_type": "code",
   "execution_count": 132,
   "metadata": {},
   "outputs": [
    {
     "data": {
      "text/plain": [
       "<AxesSubplot:xlabel='season_stay'>"
      ]
     },
     "execution_count": 132,
     "metadata": {},
     "output_type": "execute_result"
    },
    {
     "data": {
      "image/png": "[encoded data removed]",
      "text/plain": [
       "<Figure size 720x360 with 1 Axes>"
      ]
     },
     "metadata": {
      "needs_background": "light"
     },
     "output_type": "display_data"
    }
   ],
   "source": [
    "#plot histogram of seasons against booking_bool\n",
    "df.groupby('season_stay')['booking_bool'].sum().plot(kind='bar', figsize=(10,5))"
   ]
  },
  {
   "attachments": {},
   "cell_type": "markdown",
   "metadata": {},
   "source": [
    "So most hotels are booked for spring, then winter, then summer, then fall."
   ]
  }
 ],
 "metadata": {
  "kernelspec": {
   "display_name": "Python 3",
   "language": "python",
   "name": "python3"
  },
  "language_info": {
   "codemirror_mode": {
    "name": "ipython",
    "version": 3
   },
   "file_extension": ".py",
   "mimetype": "text/x-python",
   "name": "python",
   "nbconvert_exporter": "python",
   "pygments_lexer": "ipython3",
   "version": "3.7.7"
  },
  "orig_nbformat": 4
 },
 "nbformat": 4,
 "nbformat_minor": 2
}
