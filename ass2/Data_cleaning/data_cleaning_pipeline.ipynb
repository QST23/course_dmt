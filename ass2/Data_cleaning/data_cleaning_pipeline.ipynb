{
 "cells": [
  {
   "cell_type": "code",
   "execution_count": 10,
   "metadata": {},
   "outputs": [],
   "source": [
    "import numpy as np\n",
    "import polars as pl\n",
    "\n",
    "df = pl.read_csv('datasets/training_set_VU_DM.csv')\n",
    "\n",
    "# n = 500000\n",
    "# new_df = df.head(n)"
   ]
  },
  {
   "cell_type": "code",
   "execution_count": 7,
   "metadata": {},
   "outputs": [
    {
     "name": "stdout",
     "output_type": "stream",
     "text": [
      "shape: (4_958_347, 19)\n",
      "┌─────────┬─────────┬────────────┬────────────┬───┬────────────┬───────────┬──────────┬────────────┐\n",
      "│ srch_id ┆ prop_id ┆ prop_starr ┆ prop_revie ┆ … ┆ srch_satur ┆ random_bo ┆ click_bo ┆ booking_bo │\n",
      "│ ---     ┆ ---     ┆ ating      ┆ w_score    ┆   ┆ day_night_ ┆ ol        ┆ ol       ┆ ol         │\n",
      "│ i64     ┆ i64     ┆ ---        ┆ ---        ┆   ┆ bool       ┆ ---       ┆ ---      ┆ ---        │\n",
      "│         ┆         ┆ f64        ┆ f64        ┆   ┆ ---        ┆ f64       ┆ f64      ┆ f64        │\n",
      "│         ┆         ┆            ┆            ┆   ┆ f64        ┆           ┆          ┆            │\n",
      "╞═════════╪═════════╪════════════╪════════════╪═══╪════════════╪═══════════╪══════════╪════════════╡\n",
      "│ 1       ┆ 893     ┆ 0.6        ┆ 0.7        ┆ … ┆ 1.0        ┆ 1.0       ┆ 0.0      ┆ 0.0        │\n",
      "│ 1       ┆ 10404   ┆ 0.8        ┆ 0.8        ┆ … ┆ 1.0        ┆ 1.0       ┆ 0.0      ┆ 0.0        │\n",
      "│ 1       ┆ 21315   ┆ 0.6        ┆ 0.9        ┆ … ┆ 1.0        ┆ 1.0       ┆ 0.0      ┆ 0.0        │\n",
      "│ 1       ┆ 27348   ┆ 0.4        ┆ 0.8        ┆ … ┆ 1.0        ┆ 1.0       ┆ 0.0      ┆ 0.0        │\n",
      "│ …       ┆ …       ┆ …          ┆ …          ┆ … ┆ …          ┆ …         ┆ …        ┆ …          │\n",
      "│ 332785  ┆ 88083   ┆ 0.6        ┆ 0.8        ┆ … ┆ 0.0        ┆ 0.0       ┆ 0.0      ┆ 0.0        │\n",
      "│ 332785  ┆ 94508   ┆ 0.6        ┆ 0.7        ┆ … ┆ 0.0        ┆ 0.0       ┆ 0.0      ┆ 0.0        │\n",
      "│ 332785  ┆ 128360  ┆ 0.6        ┆ 1.0        ┆ … ┆ 0.0        ┆ 0.0       ┆ 1.0      ┆ 1.0        │\n",
      "│ 332785  ┆ 134949  ┆ 0.6        ┆ 0.5        ┆ … ┆ 0.0        ┆ 0.0       ┆ 0.0      ┆ 0.0        │\n",
      "└─────────┴─────────┴────────────┴────────────┴───┴────────────┴───────────┴──────────┴────────────┘\n"
     ]
    }
   ],
   "source": [
    "#delete column if type is string\n",
    "def delete_string_columns(df):\n",
    "    for col in df.columns:\n",
    "        if df[col].dtype==pl.Utf8:\n",
    "            df = df.drop(col)\n",
    "\n",
    "    return df\n",
    "\n",
    "#delete all columns which name ends with _id\n",
    "\n",
    "def delete_id_columns(df):\n",
    "    for col in df.columns:\n",
    "        if col.endswith('_id'):\n",
    "            df = df.drop(col)\n",
    "    return df\n",
    "\n",
    "def delete_defined_columns(df, columns):\n",
    "    for col in columns:\n",
    "        df = df.drop(col)\n",
    "    return df\n",
    "\n",
    "#rescale all columns to [0,1]\n",
    "def rescaler(df):\n",
    "    for col in df.columns:\n",
    "        # except for the id columns\n",
    "        if col.endswith('_id') is False:\n",
    "            df = df.with_columns(\n",
    "                (pl.col(col) - pl.col(col).min()) / (pl.col(col).max() - pl.col(col).min())\n",
    "            )\n",
    "    return df\n",
    "\n",
    "def save_df(df:pl.DataFrame, path):\n",
    "    df.write_csv(path)\n",
    "\n",
    "\n",
    "def main(df:pl.DataFrame, path='')->pl.DataFrame:\n",
    "    df = delete_string_columns(df)\n",
    "    #df = delete_id_columns(df)\n",
    "    df = delete_defined_columns(df, ['site_id', 'visitor_location_country_id', 'prop_country_id', 'srch_destination_id'])\n",
    "    df = rescaler(df)\n",
    "\n",
    "\n",
    "    if path:\n",
    "        save_df(df, path)\n",
    "\n",
    "    return df\n",
    "\n",
    "\n",
    "if __name__ == \"__main__\":\n",
    "    #read df\n",
    "    #df = pl.read_csv('datasets/sample_0.1_training_set.csv')\n",
    "    #df = new_df\n",
    "    df = pl.read_csv('datasets/training_set_VU_DM.csv')\n",
    "\n",
    "    #clean df\n",
    "    df = main(df, path='datasets/clean_0.1_sample.csv')\n",
    "\n",
    "    print(df)"
   ]
  }
 ],
 "metadata": {
  "kernelspec": {
   "display_name": "base",
   "language": "python",
   "name": "python3"
  },
  "language_info": {
   "codemirror_mode": {
    "name": "ipython",
    "version": 3
   },
   "file_extension": ".py",
   "mimetype": "text/x-python",
   "name": "python",
   "nbconvert_exporter": "python",
   "pygments_lexer": "ipython3",
   "version": "3.7.4"
  },
  "orig_nbformat": 4
 },
 "nbformat": 4,
 "nbformat_minor": 2
}
